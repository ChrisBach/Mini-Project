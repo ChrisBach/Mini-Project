{
 "cells": [
  {
   "cell_type": "code",
   "execution_count": 29,
   "metadata": {},
   "outputs": [],
   "source": [
    "import requests\n",
    "from bs4 import BeautifulSoup\n",
    "import pandas as pd\n",
    "import re\n",
    "\n",
    "headers = {\n",
    "    'User-Agent': 'Mozilla/5.0 (Windows NT 10.0; Win64; x64) AppleWebKit/537.36 (KHTML, like Gecko) Chrome/58.0.3029.110 Safari/537.36',\n",
    "    'Accept-Language': 'en-US,en;q=0.5'\n",
    "}\n",
    "#headers = {'Accept-Language': 'en-US,en;q=0.5'}\n",
    "response = requests.get(\"https://www.imdb.com/chart/top\", headers=headers)\n",
    "html_content = response.content\n",
    "\n",
    "mysoup = BeautifulSoup(html_content, 'html.parser')\n",
    "table = mysoup.find('tbody', {'class': 'lister-list'})\n",
    "movies = table.find_all('tr')\n",
    "movie_data = []\n",
    "\n",
    "for idx, movie in enumerate(movies):\n",
    "    title = movie.find('td', {'class': 'titleColumn'}).a.text\n",
    "    year = movie.find('td', {'class': 'titleColumn'}).span.text.strip('()')\n",
    "    starring_and_director = movie.find('td', {'class': 'titleColumn'}).a['title']\n",
    "    director = re.search(r\"^(.*?)(?=\\s+\\(dir\\.\\))\", starring_and_director).group(1)\n",
    "    starring = re.search(r\"(?<=\\(dir\\.\\),\\s)(.*)$\", starring_and_director).group(1)\n",
    "    rating = float(movie.find('td', {'class': 'ratingColumn imdbRating'}).strong.text)\n",
    "    users_rating = float(movie.find('td', {'class': 'ratingColumn imdbRating'}).strong['title'].split()[-3].replace(',', ''))\n",
    "    links = \"https://www.imdb.com\" + movie.find('td', {'class': 'titleColumn'}).a['href']\n",
    "    \n",
    "    # Scrape the movie type\n",
    "    response1 = requests.get(links, headers=headers)\n",
    "    html_content1 = response1.content\n",
    "    soup = BeautifulSoup(html_content1, 'html.parser')\n",
    "    genre_elems = soup.find_all('a', {'class': 'ipc-chip ipc-chip--on-baseAlt'})\n",
    "    genre = ', '.join([g.span.text.strip('[]') for g in genre_elems])\n",
    "\n",
    "        \n",
    "    movie_data.append({\n",
    "        'id': idx+1,\n",
    "        'title': title, \n",
    "        'year': year, \n",
    "        'rating': rating, \n",
    "        'links': links, \n",
    "        'users_rating': users_rating, \n",
    "        'director': director, \n",
    "        'starring': starring, \n",
    "        'genre': genre\n",
    "    })\n",
    "\n",
    "df_movies = pd.DataFrame(movie_data)\n",
    "df_movies.to_csv('top_250_movies.csv', index=False)\n"
   ]
  },
  {
   "cell_type": "code",
   "execution_count": 30,
   "metadata": {},
   "outputs": [],
   "source": [
    "df_duplicate = df_movie_type.copy()\n",
    "df_duplicate.to_csv('top_250_movies_backup.csv', index=False)\n"
   ]
  },
  {
   "cell_type": "code",
   "execution_count": 31,
   "metadata": {},
   "outputs": [
    {
     "name": "stdout",
     "output_type": "stream",
     "text": [
      "      id                     title  year  rating  \\\n",
      "0      1  The Shawshank Redemption  1994     9.2   \n",
      "1      2             The Godfather  1972     9.2   \n",
      "2      3           The Dark Knight  2008     9.0   \n",
      "3      4     The Godfather Part II  1974     9.0   \n",
      "4      5              12 Angry Men  1957     9.0   \n",
      "..   ...                       ...   ...     ...   \n",
      "245  246             Life of Brian  1979     8.0   \n",
      "246  247            The Iron Giant  1999     8.0   \n",
      "247  248                  The Help  2011     8.0   \n",
      "248  249                   Aladdin  1992     8.0   \n",
      "249  250        Dances with Wolves  1990     8.0   \n",
      "\n",
      "                                                 links  users_rating  \\\n",
      "0    https://www.imdb.com/title/tt0111161/?pf_rd_m=...     2736892.0   \n",
      "1    https://www.imdb.com/title/tt0068646/?pf_rd_m=...     1903274.0   \n",
      "2    https://www.imdb.com/title/tt0468569/?pf_rd_m=...     2710035.0   \n",
      "3    https://www.imdb.com/title/tt0071562/?pf_rd_m=...     1297311.0   \n",
      "4    https://www.imdb.com/title/tt0050083/?pf_rd_m=...      810030.0   \n",
      "..                                                 ...           ...   \n",
      "245  https://www.imdb.com/title/tt0079470/?pf_rd_m=...      408014.0   \n",
      "246  https://www.imdb.com/title/tt0129167/?pf_rd_m=...      207964.0   \n",
      "247  https://www.imdb.com/title/tt1454029/?pf_rd_m=...      471242.0   \n",
      "248  https://www.imdb.com/title/tt0103639/?pf_rd_m=...      434848.0   \n",
      "249  https://www.imdb.com/title/tt0099348/?pf_rd_m=...      275537.0   \n",
      "\n",
      "                 director                           starring  \\\n",
      "0          Frank Darabont        Tim Robbins, Morgan Freeman   \n",
      "1    Francis Ford Coppola           Marlon Brando, Al Pacino   \n",
      "2       Christopher Nolan       Christian Bale, Heath Ledger   \n",
      "3    Francis Ford Coppola          Al Pacino, Robert De Niro   \n",
      "4            Sidney Lumet           Henry Fonda, Lee J. Cobb   \n",
      "..                    ...                                ...   \n",
      "245           Terry Jones        Graham Chapman, John Cleese   \n",
      "246             Brad Bird  Eli Marienthal, Harry Connick Jr.   \n",
      "247           Tate Taylor            Viola Davis, Emma Stone   \n",
      "248          Ron Clements      Scott Weinger, Robin Williams   \n",
      "249         Kevin Costner      Kevin Costner, Mary McDonnell   \n",
      "\n",
      "                            genre  \n",
      "0                           Drama  \n",
      "1                    Crime, Drama  \n",
      "2            Action, Crime, Drama  \n",
      "3                    Crime, Drama  \n",
      "4                    Crime, Drama  \n",
      "..                            ...  \n",
      "245                        Comedy  \n",
      "246  Animation, Action, Adventure  \n",
      "247                         Drama  \n",
      "248  Animation, Adventure, Comedy  \n",
      "249     Adventure, Drama, Western  \n",
      "\n",
      "[250 rows x 9 columns]\n"
     ]
    }
   ],
   "source": [
    "\n",
    "print(df_movies)"
   ]
  },
  {
   "cell_type": "code",
   "execution_count": 32,
   "metadata": {},
   "outputs": [
    {
     "name": "stdout",
     "output_type": "stream",
     "text": [
      "0      The Shawshank Redemption\n",
      "1                 The Godfather\n",
      "2               The Dark Knight\n",
      "3         The Godfather Part II\n",
      "4                  12 Angry Men\n",
      "                 ...           \n",
      "245               Life of Brian\n",
      "246              The Iron Giant\n",
      "247                    The Help\n",
      "248                     Aladdin\n",
      "249          Dances with Wolves\n",
      "Name: title, Length: 250, dtype: object\n",
      "0                             Drama\n",
      "1                      Crime, Drama\n",
      "2              Action, Crime, Drama\n",
      "3                      Crime, Drama\n",
      "4                      Crime, Drama\n",
      "                   ...             \n",
      "245                          Comedy\n",
      "246    Animation, Action, Adventure\n",
      "247                           Drama\n",
      "248    Animation, Adventure, Comedy\n",
      "249       Adventure, Drama, Western\n",
      "Name: genre, Length: 250, dtype: object\n"
     ]
    }
   ],
   "source": [
    "print(df_movies['title'])\n",
    "print(df_movies['genre'])"
   ]
  },
  {
   "cell_type": "code",
   "execution_count": null,
   "metadata": {},
   "outputs": [],
   "source": []
  },
  {
   "cell_type": "code",
   "execution_count": 37,
   "metadata": {},
   "outputs": [
    {
     "ename": "TypeError",
     "evalue": "list indices must be integers or slices, not str",
     "output_type": "error",
     "traceback": [
      "\u001b[1;31m---------------------------------------------------------------------------\u001b[0m",
      "\u001b[1;31mTypeError\u001b[0m                                 Traceback (most recent call last)",
      "\u001b[1;32m~\\AppData\\Local\\Temp/ipykernel_20180/1246650741.py\u001b[0m in \u001b[0;36m<module>\u001b[1;34m\u001b[0m\n\u001b[0;32m     19\u001b[0m             \u001b[1;32melse\u001b[0m\u001b[1;33m:\u001b[0m\u001b[1;33m\u001b[0m\u001b[1;33m\u001b[0m\u001b[0m\n\u001b[0;32m     20\u001b[0m                 \u001b[1;31m# If the type is not already a key, create a new key-value pair with an empty list for the titles and ratings\u001b[0m\u001b[1;33m\u001b[0m\u001b[1;33m\u001b[0m\u001b[0m\n\u001b[1;32m---> 21\u001b[1;33m                 \u001b[0mmovie_type\u001b[0m\u001b[1;33m[\u001b[0m\u001b[0mt\u001b[0m\u001b[1;33m]\u001b[0m \u001b[1;33m=\u001b[0m \u001b[1;33m{\u001b[0m\u001b[1;34m'title'\u001b[0m\u001b[1;33m:\u001b[0m \u001b[1;33m[\u001b[0m\u001b[0mname\u001b[0m\u001b[1;33m]\u001b[0m\u001b[1;33m,\u001b[0m \u001b[1;34m'rating'\u001b[0m\u001b[1;33m:\u001b[0m \u001b[1;33m[\u001b[0m\u001b[0mdf_movies\u001b[0m\u001b[1;33m[\u001b[0m\u001b[0mdf_movies\u001b[0m\u001b[1;33m[\u001b[0m\u001b[1;34m'title'\u001b[0m\u001b[1;33m]\u001b[0m \u001b[1;33m==\u001b[0m \u001b[0mname\u001b[0m\u001b[1;33m]\u001b[0m\u001b[1;33m[\u001b[0m\u001b[1;34m'rating'\u001b[0m\u001b[1;33m]\u001b[0m\u001b[1;33m.\u001b[0m\u001b[0mvalues\u001b[0m\u001b[1;33m[\u001b[0m\u001b[1;36m0\u001b[0m\u001b[1;33m]\u001b[0m\u001b[1;33m]\u001b[0m\u001b[1;33m}\u001b[0m\u001b[1;33m\u001b[0m\u001b[1;33m\u001b[0m\u001b[0m\n\u001b[0m\u001b[0;32m     22\u001b[0m \u001b[1;33m\u001b[0m\u001b[0m\n\u001b[0;32m     23\u001b[0m \u001b[1;31m# Create a DataFrame from the dictionary\u001b[0m\u001b[1;33m\u001b[0m\u001b[1;33m\u001b[0m\u001b[0m\n",
      "\u001b[1;31mTypeError\u001b[0m: list indices must be integers or slices, not str"
     ]
    }
   ],
   "source": [
    "# creating a genre table with other features\n",
    "import pandas as pd\n",
    "\n",
    "# Create an empty dictionary to hold the data for the new DataFrame\n",
    "movie_type = ['Drama', 'Crime', 'Action', 'Biography', 'Adventure', 'Comedy', 'Animation', 'Horror',\n",
    "          'Western', 'Mystery', 'Film-Noir', 'Romance', 'Sci-Fi', 'Family', 'War', 'Thriller',\n",
    "          'Music', 'Musical', 'Fantasy', 'Sport', 'History']\n",
    "\n",
    "# Loop through the movies in movie title data\n",
    "for name, type in zip(df_movies['title'], df_movies['genre']):\n",
    "    # Loop through the movie types in the genre\n",
    "    for t in type:\n",
    "        #if len(t) > 1:\n",
    "        # Check if the genre is already a key in the dictionary\n",
    "            if t in movie_type:\n",
    "                # If the genre is already a key, append the movie title and rating to the list of values\n",
    "                movie_type[t]['title'].append(name)\n",
    "                #movie_type[t]['rating'].append(df_movies[df_movies['title'] == name]['rating'].values[0])\n",
    "            else:\n",
    "                # If the type is not already a key, create a new key-value pair with an empty list for the titles and ratings\n",
    "                movie_type[t] = {'title': [name], 'rating': [df_movies[df_movies['title'] == name]['rating'].values[0]]}\n",
    "\n",
    "# Create a DataFrame from the dictionary\n",
    "df_movie_type = pd.DataFrame(movie_type)\n",
    "\n",
    "# Assign a new range of indices to the DataFrame\n",
    "df_movie_type.index = range(1, len(df_movie_type) + 1)\n",
    "\n",
    "# Print the DataFrame\n",
    "print(df_movie_type)\n",
    "\n"
   ]
  },
  {
   "cell_type": "code",
   "execution_count": 2,
   "metadata": {},
   "outputs": [
    {
     "data": {
      "image/png": "[encoded data removed]",
      "text/plain": [
       "<Figure size 432x288 with 1 Axes>"
      ]
     },
     "metadata": {
      "needs_background": "light"
     },
     "output_type": "display_data"
    }
   ],
   "source": [
    "import matplotlib.pyplot as plt\n",
    "\n",
    "years = [int(movie['year']) for movie in movie_data]\n",
    "ratings = [movie['rating'] for movie in movie_data]\n",
    "\n",
    "plt.scatter(years, ratings)\n",
    "plt.xlabel('Year')\n",
    "plt.ylabel('Rating')\n",
    "plt.show()\n",
    "\n",
    "# this does not say much, probably more movies were produced in the 20s than before. Highest rated movies were old and gold."
   ]
  },
  {
   "cell_type": "code",
   "execution_count": 3,
   "metadata": {},
   "outputs": [
    {
     "data": {
      "image/png": "[encoded data removed]",
      "text/plain": [
       "<Figure size 432x288 with 1 Axes>"
      ]
     },
     "metadata": {
      "needs_background": "light"
     },
     "output_type": "display_data"
    }
   ],
   "source": [
    "\n",
    "import matplotlib.pyplot as plt\n",
    "\n",
    "users_rating = [movie['users_rating'] for movie in movie_data]\n",
    "ratings = [movie['rating'] for movie in movie_data]\n",
    "\n",
    "plt.scatter(users_rating, ratings)\n",
    "plt.xlabel('users_rating')\n",
    "plt.ylabel('Rating')\n",
    "plt.show()\n",
    "\n",
    "# This could indicate that movies that have data point in upper right corner have high credibility of ratings"
   ]
  }
 ],
 "metadata": {
  "kernelspec": {
   "display_name": "base",
   "language": "python",
   "name": "python3"
  },
  "language_info": {
   "codemirror_mode": {
    "name": "ipython",
    "version": 3
   },
   "file_extension": ".py",
   "mimetype": "text/x-python",
   "name": "python",
   "nbconvert_exporter": "python",
   "pygments_lexer": "ipython3",
   "version": "3.9.7"
  },
  "orig_nbformat": 4
 },
 "nbformat": 4,
 "nbformat_minor": 2
}
